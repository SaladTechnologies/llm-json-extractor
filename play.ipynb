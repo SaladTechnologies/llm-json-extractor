{
 "cells": [
  {
   "cell_type": "code",
   "execution_count": 26,
   "metadata": {},
   "outputs": [
    {
     "name": "stdout",
     "output_type": "stream",
     "text": [
      "Requirement already satisfied: qdrant-client in ./.venv/lib/python3.10/site-packages (from -r requirements.txt (line 1)) (1.6.9)\n",
      "Requirement already satisfied: Jinja2 in ./.venv/lib/python3.10/site-packages (from -r requirements.txt (line 2)) (3.1.2)\n",
      "Requirement already satisfied: ipywidgets in ./.venv/lib/python3.10/site-packages (from -r requirements.txt (line 3)) (8.1.1)\n",
      "Requirement already satisfied: unstructured in ./.venv/lib/python3.10/site-packages (from -r requirements.txt (line 4)) (0.11.2)\n",
      "Requirement already satisfied: beautifulsoup4 in ./.venv/lib/python3.10/site-packages (from -r requirements.txt (line 5)) (4.12.2)\n",
      "Requirement already satisfied: lxml in ./.venv/lib/python3.10/site-packages (from -r requirements.txt (line 6)) (4.9.3)\n",
      "Requirement already satisfied: grpcio>=1.41.0 in ./.venv/lib/python3.10/site-packages (from qdrant-client->-r requirements.txt (line 1)) (1.59.3)\n",
      "Requirement already satisfied: grpcio-tools>=1.41.0 in ./.venv/lib/python3.10/site-packages (from qdrant-client->-r requirements.txt (line 1)) (1.59.3)\n",
      "Requirement already satisfied: httpx>=0.14.0 in ./.venv/lib/python3.10/site-packages (from httpx[http2]>=0.14.0->qdrant-client->-r requirements.txt (line 1)) (0.25.2)\n",
      "Requirement already satisfied: numpy>=1.21 in ./.venv/lib/python3.10/site-packages (from qdrant-client->-r requirements.txt (line 1)) (1.26.2)\n",
      "Requirement already satisfied: portalocker<3.0.0,>=2.7.0 in ./.venv/lib/python3.10/site-packages (from qdrant-client->-r requirements.txt (line 1)) (2.8.2)\n",
      "Requirement already satisfied: pydantic>=1.10.8 in ./.venv/lib/python3.10/site-packages (from qdrant-client->-r requirements.txt (line 1)) (2.5.2)\n",
      "Requirement already satisfied: urllib3<2.0.0,>=1.26.14 in ./.venv/lib/python3.10/site-packages (from qdrant-client->-r requirements.txt (line 1)) (1.26.18)\n",
      "Requirement already satisfied: MarkupSafe>=2.0 in ./.venv/lib/python3.10/site-packages (from Jinja2->-r requirements.txt (line 2)) (2.1.3)\n",
      "Requirement already satisfied: comm>=0.1.3 in ./.venv/lib/python3.10/site-packages (from ipywidgets->-r requirements.txt (line 3)) (0.2.0)\n",
      "Requirement already satisfied: ipython>=6.1.0 in ./.venv/lib/python3.10/site-packages (from ipywidgets->-r requirements.txt (line 3)) (8.18.1)\n",
      "Requirement already satisfied: traitlets>=4.3.1 in ./.venv/lib/python3.10/site-packages (from ipywidgets->-r requirements.txt (line 3)) (5.14.0)\n",
      "Requirement already satisfied: widgetsnbextension~=4.0.9 in ./.venv/lib/python3.10/site-packages (from ipywidgets->-r requirements.txt (line 3)) (4.0.9)\n",
      "Requirement already satisfied: jupyterlab-widgets~=3.0.9 in ./.venv/lib/python3.10/site-packages (from ipywidgets->-r requirements.txt (line 3)) (3.0.9)\n",
      "Requirement already satisfied: chardet in ./.venv/lib/python3.10/site-packages (from unstructured->-r requirements.txt (line 4)) (5.2.0)\n",
      "Requirement already satisfied: filetype in ./.venv/lib/python3.10/site-packages (from unstructured->-r requirements.txt (line 4)) (1.2.0)\n",
      "Requirement already satisfied: python-magic in ./.venv/lib/python3.10/site-packages (from unstructured->-r requirements.txt (line 4)) (0.4.27)\n",
      "Requirement already satisfied: nltk in ./.venv/lib/python3.10/site-packages (from unstructured->-r requirements.txt (line 4)) (3.8.1)\n",
      "Requirement already satisfied: tabulate in ./.venv/lib/python3.10/site-packages (from unstructured->-r requirements.txt (line 4)) (0.9.0)\n",
      "Requirement already satisfied: requests in ./.venv/lib/python3.10/site-packages (from unstructured->-r requirements.txt (line 4)) (2.31.0)\n",
      "Requirement already satisfied: emoji in ./.venv/lib/python3.10/site-packages (from unstructured->-r requirements.txt (line 4)) (2.9.0)\n",
      "Requirement already satisfied: dataclasses-json in ./.venv/lib/python3.10/site-packages (from unstructured->-r requirements.txt (line 4)) (0.6.3)\n",
      "Requirement already satisfied: python-iso639 in ./.venv/lib/python3.10/site-packages (from unstructured->-r requirements.txt (line 4)) (2023.6.15)\n",
      "Requirement already satisfied: langdetect in ./.venv/lib/python3.10/site-packages (from unstructured->-r requirements.txt (line 4)) (1.0.9)\n",
      "Requirement already satisfied: rapidfuzz in ./.venv/lib/python3.10/site-packages (from unstructured->-r requirements.txt (line 4)) (3.5.2)\n",
      "Requirement already satisfied: backoff in ./.venv/lib/python3.10/site-packages (from unstructured->-r requirements.txt (line 4)) (2.2.1)\n",
      "Requirement already satisfied: typing-extensions in ./.venv/lib/python3.10/site-packages (from unstructured->-r requirements.txt (line 4)) (4.8.0)\n",
      "Requirement already satisfied: wrapt in ./.venv/lib/python3.10/site-packages (from unstructured->-r requirements.txt (line 4)) (1.16.0)\n",
      "Requirement already satisfied: soupsieve>1.2 in ./.venv/lib/python3.10/site-packages (from beautifulsoup4->-r requirements.txt (line 5)) (2.5)\n",
      "Requirement already satisfied: protobuf<5.0dev,>=4.21.6 in ./.venv/lib/python3.10/site-packages (from grpcio-tools>=1.41.0->qdrant-client->-r requirements.txt (line 1)) (4.25.1)\n",
      "Requirement already satisfied: setuptools in ./.venv/lib/python3.10/site-packages (from grpcio-tools>=1.41.0->qdrant-client->-r requirements.txt (line 1)) (69.0.2)\n",
      "Requirement already satisfied: anyio in ./.venv/lib/python3.10/site-packages (from httpx>=0.14.0->httpx[http2]>=0.14.0->qdrant-client->-r requirements.txt (line 1)) (4.1.0)\n",
      "Requirement already satisfied: certifi in ./.venv/lib/python3.10/site-packages (from httpx>=0.14.0->httpx[http2]>=0.14.0->qdrant-client->-r requirements.txt (line 1)) (2023.11.17)\n",
      "Requirement already satisfied: httpcore==1.* in ./.venv/lib/python3.10/site-packages (from httpx>=0.14.0->httpx[http2]>=0.14.0->qdrant-client->-r requirements.txt (line 1)) (1.0.2)\n",
      "Requirement already satisfied: idna in ./.venv/lib/python3.10/site-packages (from httpx>=0.14.0->httpx[http2]>=0.14.0->qdrant-client->-r requirements.txt (line 1)) (3.6)\n",
      "Requirement already satisfied: sniffio in ./.venv/lib/python3.10/site-packages (from httpx>=0.14.0->httpx[http2]>=0.14.0->qdrant-client->-r requirements.txt (line 1)) (1.3.0)\n",
      "Requirement already satisfied: h11<0.15,>=0.13 in ./.venv/lib/python3.10/site-packages (from httpcore==1.*->httpx>=0.14.0->httpx[http2]>=0.14.0->qdrant-client->-r requirements.txt (line 1)) (0.14.0)\n",
      "Requirement already satisfied: h2<5,>=3 in ./.venv/lib/python3.10/site-packages (from httpx[http2]>=0.14.0->qdrant-client->-r requirements.txt (line 1)) (4.1.0)\n",
      "Requirement already satisfied: decorator in ./.venv/lib/python3.10/site-packages (from ipython>=6.1.0->ipywidgets->-r requirements.txt (line 3)) (5.1.1)\n",
      "Requirement already satisfied: jedi>=0.16 in ./.venv/lib/python3.10/site-packages (from ipython>=6.1.0->ipywidgets->-r requirements.txt (line 3)) (0.19.1)\n",
      "Requirement already satisfied: matplotlib-inline in ./.venv/lib/python3.10/site-packages (from ipython>=6.1.0->ipywidgets->-r requirements.txt (line 3)) (0.1.6)\n",
      "Requirement already satisfied: prompt-toolkit<3.1.0,>=3.0.41 in ./.venv/lib/python3.10/site-packages (from ipython>=6.1.0->ipywidgets->-r requirements.txt (line 3)) (3.0.41)\n",
      "Requirement already satisfied: pygments>=2.4.0 in ./.venv/lib/python3.10/site-packages (from ipython>=6.1.0->ipywidgets->-r requirements.txt (line 3)) (2.17.2)\n",
      "Requirement already satisfied: stack-data in ./.venv/lib/python3.10/site-packages (from ipython>=6.1.0->ipywidgets->-r requirements.txt (line 3)) (0.6.3)\n",
      "Requirement already satisfied: exceptiongroup in ./.venv/lib/python3.10/site-packages (from ipython>=6.1.0->ipywidgets->-r requirements.txt (line 3)) (1.2.0)\n",
      "Requirement already satisfied: pexpect>4.3 in ./.venv/lib/python3.10/site-packages (from ipython>=6.1.0->ipywidgets->-r requirements.txt (line 3)) (4.9.0)\n",
      "Requirement already satisfied: annotated-types>=0.4.0 in ./.venv/lib/python3.10/site-packages (from pydantic>=1.10.8->qdrant-client->-r requirements.txt (line 1)) (0.6.0)\n",
      "Requirement already satisfied: pydantic-core==2.14.5 in ./.venv/lib/python3.10/site-packages (from pydantic>=1.10.8->qdrant-client->-r requirements.txt (line 1)) (2.14.5)\n",
      "Requirement already satisfied: marshmallow<4.0.0,>=3.18.0 in ./.venv/lib/python3.10/site-packages (from dataclasses-json->unstructured->-r requirements.txt (line 4)) (3.20.1)\n",
      "Requirement already satisfied: typing-inspect<1,>=0.4.0 in ./.venv/lib/python3.10/site-packages (from dataclasses-json->unstructured->-r requirements.txt (line 4)) (0.9.0)\n",
      "Requirement already satisfied: six in ./.venv/lib/python3.10/site-packages (from langdetect->unstructured->-r requirements.txt (line 4)) (1.16.0)\n",
      "Requirement already satisfied: click in ./.venv/lib/python3.10/site-packages (from nltk->unstructured->-r requirements.txt (line 4)) (8.1.7)\n",
      "Requirement already satisfied: joblib in ./.venv/lib/python3.10/site-packages (from nltk->unstructured->-r requirements.txt (line 4)) (1.3.2)\n",
      "Requirement already satisfied: regex>=2021.8.3 in ./.venv/lib/python3.10/site-packages (from nltk->unstructured->-r requirements.txt (line 4)) (2023.10.3)\n",
      "Requirement already satisfied: tqdm in ./.venv/lib/python3.10/site-packages (from nltk->unstructured->-r requirements.txt (line 4)) (4.66.1)\n",
      "Requirement already satisfied: charset-normalizer<4,>=2 in ./.venv/lib/python3.10/site-packages (from requests->unstructured->-r requirements.txt (line 4)) (3.3.2)\n",
      "Requirement already satisfied: hyperframe<7,>=6.0 in ./.venv/lib/python3.10/site-packages (from h2<5,>=3->httpx[http2]>=0.14.0->qdrant-client->-r requirements.txt (line 1)) (6.0.1)\n",
      "Requirement already satisfied: hpack<5,>=4.0 in ./.venv/lib/python3.10/site-packages (from h2<5,>=3->httpx[http2]>=0.14.0->qdrant-client->-r requirements.txt (line 1)) (4.0.0)\n",
      "Requirement already satisfied: parso<0.9.0,>=0.8.3 in ./.venv/lib/python3.10/site-packages (from jedi>=0.16->ipython>=6.1.0->ipywidgets->-r requirements.txt (line 3)) (0.8.3)\n",
      "Requirement already satisfied: packaging>=17.0 in ./.venv/lib/python3.10/site-packages (from marshmallow<4.0.0,>=3.18.0->dataclasses-json->unstructured->-r requirements.txt (line 4)) (23.2)\n",
      "Requirement already satisfied: ptyprocess>=0.5 in ./.venv/lib/python3.10/site-packages (from pexpect>4.3->ipython>=6.1.0->ipywidgets->-r requirements.txt (line 3)) (0.7.0)\n",
      "Requirement already satisfied: wcwidth in ./.venv/lib/python3.10/site-packages (from prompt-toolkit<3.1.0,>=3.0.41->ipython>=6.1.0->ipywidgets->-r requirements.txt (line 3)) (0.2.12)\n",
      "Requirement already satisfied: mypy-extensions>=0.3.0 in ./.venv/lib/python3.10/site-packages (from typing-inspect<1,>=0.4.0->dataclasses-json->unstructured->-r requirements.txt (line 4)) (1.0.0)\n",
      "Requirement already satisfied: executing>=1.2.0 in ./.venv/lib/python3.10/site-packages (from stack-data->ipython>=6.1.0->ipywidgets->-r requirements.txt (line 3)) (2.0.1)\n",
      "Requirement already satisfied: asttokens>=2.1.0 in ./.venv/lib/python3.10/site-packages (from stack-data->ipython>=6.1.0->ipywidgets->-r requirements.txt (line 3)) (2.4.1)\n",
      "Requirement already satisfied: pure-eval in ./.venv/lib/python3.10/site-packages (from stack-data->ipython>=6.1.0->ipywidgets->-r requirements.txt (line 3)) (0.2.2)\n",
      "Note: you may need to restart the kernel to use updated packages.\n"
     ]
    }
   ],
   "source": [
    "%pip install -r requirements.txt"
   ]
  },
  {
   "cell_type": "code",
   "execution_count": 7,
   "metadata": {},
   "outputs": [],
   "source": [
    "from bs4 import BeautifulSoup\n",
    "\n",
    "html_file = \"Moncler x adidas Originals NMD Padded Boots _ Harrods US.html\"\n",
    "embedding_server = \"http://localhost:3001\"\n",
    "generation_server = \"http://localhost:3000\"\n",
    "qdrant_server = \"http://localhost:6333\"\n",
    "\n",
    "with open(html_file, \"r\") as f:\n",
    "    html = f.read()\n",
    "    \n",
    "    \n",
    "def chunk_html(html: str):\n",
    "  soup = BeautifulSoup(html, 'lxml')\n",
    "  meta = soup.find_all(\"meta\")\n",
    "  scripts = soup.find_all(\"script\")\n",
    "\n",
    "  json_content = [tag.get_text() for tag in scripts if tag.get(\"type\") and 'json' in tag['type']]\n",
    "\n",
    "  text = soup.get_text(separator='\\n', strip=True)\n",
    "\n",
    "  return json_content + meta + [text]\n"
   ]
  },
  {
   "cell_type": "code",
   "execution_count": 15,
   "metadata": {},
   "outputs": [],
   "source": [
    "import requests\n",
    "\n",
    "chunks = chunk_html(html)\n",
    "\n",
    "embeddings = []\n",
    "\n",
    "for chunk in chunks:\n",
    "  payload = {\n",
    "    \"inputs\": str(chunk),\n",
    "    \"normalize\": True,\n",
    "    \"truncate\": False\n",
    "  }\n",
    "  response = requests.post(f\"{embedding_server}/embed\", json=payload)\n",
    "  embeddings.append(response.json())"
   ]
  },
  {
   "cell_type": "code",
   "execution_count": 35,
   "metadata": {},
   "outputs": [
    {
     "data": {
      "text/plain": [
       "True"
      ]
     },
     "execution_count": 35,
     "metadata": {},
     "output_type": "execute_result"
    }
   ],
   "source": [
    "from qdrant_client import QdrantClient\n",
    "from qdrant_client.models import Distance, VectorParams, PointStruct, Filter, FieldCondition, MatchValue\n",
    "\n",
    "client = QdrantClient(url=qdrant_server)\n",
    "\n",
    "client.recreate_collection(collection_name=\"harrods\", vectors_config=VectorParams(size=1024, distance=Distance.DOT))\n"
   ]
  },
  {
   "cell_type": "code",
   "execution_count": 36,
   "metadata": {},
   "outputs": [
    {
     "data": {
      "text/plain": [
       "UpdateResult(operation_id=0, status=<UpdateStatus.COMPLETED: 'completed'>)"
      ]
     },
     "execution_count": 36,
     "metadata": {},
     "output_type": "execute_result"
    }
   ],
   "source": [
    "from uuid import uuid4\n",
    "\n",
    "points = [\n",
    "  PointStruct(\n",
    "    id=str(uuid4()),\n",
    "    vector=embedding[0],\n",
    "    payload={\"content\": str(chunks[i]), \"page_id\": html_file, \"chunk_id\": i}\n",
    "  ) for i, embedding in enumerate(embeddings)\n",
    "]\n",
    "\n",
    "client.upsert(collection_name=\"harrods\", points=points)"
   ]
  },
  {
   "cell_type": "code",
   "execution_count": 40,
   "metadata": {},
   "outputs": [
    {
     "name": "stdout",
     "output_type": "stream",
     "text": [
      "<meta content=\"USD\" data-react-helmet=\"true\" property=\"product:price:currency\"/>\n",
      "<meta content=\"out of stock\" data-react-helmet=\"true\" property=\"product:availability\"/>\n",
      "<meta content=\"ie=edge\" http-equiv=\"x-ua-compatible\"/>\n",
      "{\"@context\":\"http://schema.org/\",\"@type\":\"Product\",\"name\":\"Moncler x adidas Originals NMD Padded Boots  | Harrods US \",\"description\":\"Moncler black x adidas Originals NMD Padded Boots . Earn Rewards points when you shop and gain access to exclusive benefits.\",\"image\":\"https://image.harrods.com/moncler-x-adidas-originals-nmd-padded-boots_21980262_47415528_1000.jpg\",\"sku\":null,\"productID\":\"21980262\",\"color\":\"Black\",\"category\":\"Ankle Boots\",\"brand\":{\"@type\":\"Brand\",\"name\":\"Moncler\"},\"offers\":{\"@context\":\"http://schema.org/\",\"@type\":\"Offer\",\"url\":\"https://www.harrods.com/en-us/shopping/moncler-x-adidas-originals-nmd-padded-boots-21980262\",\"priceCurrency\":\"USD\",\"itemCondition\":\"http://schema.org/NewCondition\",\"availability\":\"http://schema.org/OutOfStock\",\"seller\":{\"@type\":\"Organization\",\"name\":\"Harrods\"}}}\n",
      "<meta content=\"new\" data-react-helmet=\"true\" property=\"product:condition\"/>\n"
     ]
    }
   ],
   "source": [
    "query = \"price of item\"\n",
    "query_embedding = requests.post(f\"{embedding_server}/embed\", json={\"inputs\": query, \"normalize\": True, \"truncate\": False}).json()[0]\n",
    "\n",
    "search_result = client.search(\n",
    "    collection_name=\"harrods\",\n",
    "    query_vector=query_embedding,\n",
    "    query_filter=Filter(\n",
    "      must=[\n",
    "        FieldCondition(\n",
    "          key=\"page_id\",\n",
    "          match=MatchValue(value=html_file)\n",
    "        )\n",
    "      ]\n",
    "    ),\n",
    "    limit=5\n",
    ")\n",
    "\n",
    "for result in search_result:\n",
    "  print(result.payload[\"content\"])"
   ]
  }
 ],
 "metadata": {
  "kernelspec": {
   "display_name": ".venv",
   "language": "python",
   "name": "python3"
  },
  "language_info": {
   "codemirror_mode": {
    "name": "ipython",
    "version": 3
   },
   "file_extension": ".py",
   "mimetype": "text/x-python",
   "name": "python",
   "nbconvert_exporter": "python",
   "pygments_lexer": "ipython3",
   "version": "3.10.12"
  }
 },
 "nbformat": 4,
 "nbformat_minor": 2
}
